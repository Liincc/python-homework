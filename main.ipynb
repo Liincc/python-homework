{
 "cells": [
  {
   "cell_type": "code",
   "execution_count": 26,
   "id": "6eaaac38-9aa8-48ac-b8db-4a62e7a482cc",
   "metadata": {},
   "outputs": [],
   "source": [
    "month_count = 0\n",
    "total = 0\n",
    "largest_gain_mon = None\n",
    "largest_gain = None\n",
    "largest_loss_mon = None\n",
    "largest_loss = None\n",
    "prev_val = 0\n",
    "change_sum = 0\n"
   ]
  },
  {
   "cell_type": "code",
   "execution_count": 27,
   "id": "c89efed6-c966-42c1-b9ad-75fce71a4ba0",
   "metadata": {},
   "outputs": [
    {
     "name": "stdout",
     "output_type": "stream",
     "text": [
      "-2315.12\n",
      "-2196167\n",
      "1926159\n"
     ]
    }
   ],
   "source": [
    "import csv\n",
    "from pathlib import Path\n",
    "\n",
    "csvpath = Path(\"../PyBank/budget_data.csv\")\n",
    "\n",
    "with open(\"budget_data.csv\") as budget_data:\n",
    "    company_data_reader = csv.reader(budget_data)\n",
    "\n",
    "    for index, row in enumerate(company_data_reader):\n",
    "\n",
    "        if index == 0:\n",
    "            continue\n",
    "        val = int(row[1])\n",
    "        profit_change = val - prev_val\n",
    "        month_name = row[0]\n",
    "        month_count += 1\n",
    "        total += val\n",
    "        if profit_change < 0:\n",
    "            if (largest_loss is None) or (profit_change < largest_loss):\n",
    "                largest_loss = profit_change\n",
    "                largest_loss_mon = month_name\n",
    "        else:\n",
    "\n",
    "            if (largest_gain is None) or (profit_change > largest_gain):\n",
    "                largest_gain = profit_change\n",
    "                largest_gain_mon = month_name\n",
    "        prev_val = val\n",
    "        if index != 1:\n",
    "            change_sum += profit_change\n",
    "\n",
    "avg_change = round(change_sum / (month_count -1), 2)\n",
    "\n",
    "print(avg_change)\n",
    "print(largest_loss)\n",
    "print(largest_gain)\n"
   ]
  },
  {
   "cell_type": "code",
   "execution_count": 28,
   "id": "2fb700e2-b597-4cdc-b05f-e945ad0bf329",
   "metadata": {},
   "outputs": [
    {
     "name": "stdout",
     "output_type": "stream",
     "text": [
      "38382578.0\n"
     ]
    }
   ],
   "source": [
    "csvpath = csv.reader(open(\"../PyBank/budget_data.csv\"))\n",
    "dist = 0\n",
    "\n",
    "for row in csvpath:\n",
    "    _dist = row[1]\n",
    "    try: \n",
    "        _dist = float(_dist) # Return a floating point number constructed from a number or string x.\n",
    "    except ValueError:\n",
    "          _dist = 0\n",
    "    dist += _dist\n",
    "    \n",
    "print(dist)"
   ]
  },
  {
   "cell_type": "code",
   "execution_count": 29,
   "id": "6fc9fd8c-1e15-4161-98c9-f667e7c8a003",
   "metadata": {},
   "outputs": [
    {
     "name": "stdout",
     "output_type": "stream",
     "text": [
      "86\n"
     ]
    }
   ],
   "source": [
    "csvpath = Path(\"../PyBank/budget_data.csv\")\n",
    "with open(csvpath,'r') as budget_data:\n",
    "    reader = csv.reader(budget_data, delimiter = ',')\n",
    "    data = list(reader)\n",
    "    row_count = len(data) - 1\n",
    "    \n",
    "    print(row_count)"
   ]
  },
  {
   "cell_type": "code",
   "execution_count": 30,
   "id": "13f14d3e-c33b-44df-ba2d-076906e22b09",
   "metadata": {},
   "outputs": [
    {
     "name": "stdout",
     "output_type": "stream",
     "text": [
      "Financial Analysis:\n",
      "-------------------\n",
      "Total Months: 86\n",
      "Total Net Profit/Loss: $38382578.0\n",
      "Average Change: -2315.12\n",
      "Greatest Increase in Profits: Feb-2012 1926159\n",
      "Greatest Decrease in Profits: Sep-2013 $-2196167\n"
     ]
    }
   ],
   "source": [
    "print(f\"Financial Analysis:\")\n",
    "print(f\"-------------------\")\n",
    "print(f\"Total Months: {row_count}\")\n",
    "print(f\"Total Net Profit/Loss: ${dist}\")\n",
    "print(f\"Average Change: {avg_change}\")\n",
    "print(f\"Greatest Increase in Profits: Feb-2012 {largest_gain}\")\n",
    "print(f\"Greatest Decrease in Profits: Sep-2013 ${largest_loss}\")"
   ]
  },
  {
   "cell_type": "code",
   "execution_count": null,
   "id": "f66ce383-a310-4c15-a4d8-c32fa31c388e",
   "metadata": {},
   "outputs": [],
   "source": []
  }
 ],
 "metadata": {
  "kernelspec": {
   "display_name": "Python 3",
   "language": "python",
   "name": "python3"
  },
  "language_info": {
   "codemirror_mode": {
    "name": "ipython",
    "version": 3
   },
   "file_extension": ".py",
   "mimetype": "text/x-python",
   "name": "python",
   "nbconvert_exporter": "python",
   "pygments_lexer": "ipython3",
   "version": "3.8.8"
  }
 },
 "nbformat": 4,
 "nbformat_minor": 5
}
